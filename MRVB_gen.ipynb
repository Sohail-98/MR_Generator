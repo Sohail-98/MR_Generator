{
 "cells": [
  {
   "cell_type": "code",
   "execution_count": null,
   "metadata": {},
   "outputs": [],
   "source": [
    "Params:                      Case insensitive\n",
    "\n",
    "    document_type    (str):  The First letter must be 'V'\n",
    "    country_code     (str):  3 letters code (ISO 3166-1) or country name (in English)\n",
    "    surname          (str):  Primary identifier(s)\n",
    "    given_names      (str):  Secondary identifier(s)\n",
    "    document_number  (str):  Document number\n",
    "    nationality      (str):  3 letters code (ISO 3166-1) or country name\n",
    "    birth_date       (str):  YYMMDD\n",
    "    sex              (str):  Genre. Male: 'M', Female: 'F' or Undefined: 'X', \"<\" or \"\"\n",
    "    expiry_date      (str):  YYMMDD\n",
    "    optional_data    (str):  Optional personal data at the discretion of the issuing State.\n",
    "                             Non-mandatory field. Empty string by default.\n",
    "    transliteration (dict):  Transliteration dictionary for non-ascii chars. Latin based by default\n",
    "    force           (bool):  Disables checks for country, nationality and document_type fields.\n",
    "                             Allows to use 3-letter-codes not included in the countries dictionary\n",
    "                             and to use document_type codes without restrictions.\n"
   ]
  },
  {
   "cell_type": "code",
   "execution_count": null,
   "metadata": {},
   "outputs": [],
   "source": [
    "pip install transliterate\n"
   ]
  },
  {
   "cell_type": "code",
   "execution_count": 1,
   "metadata": {},
   "outputs": [
    {
     "name": "stdout",
     "output_type": "stream",
     "text": [
      "Enter 3 letters code or country name :can\n",
      "Enter your surname : oluwadairo\n",
      "Enter your first name : samuel idowo\n",
      "Enter your document number (only 8 char): a5042955\n",
      "Enter your Nationality : nga\n",
      "Enter your D.O.B (yymmdd) : 740304\n",
      "Enter your sex (M/F) : m\n",
      "Enter expiry date (yymmdd) : 221002\n",
      "Enter empty string by deafult(max 8 char): \n",
      "VCCANSAMUEL<IDOWO<<OLUWADAIRO<<<<<<<\n",
      "A5042955<8NGA7403046M2210023<<<<<<<<\n"
     ]
    }
   ],
   "source": [
    "#relevant module\n",
    "from mrz.generator.mrvb import MRVBCodeGenerator\n",
    "\n",
    "#inputs for the generators\n",
    "document_type = \"VC\"\n",
    "country_code = input('Enter 3 letters code or country name :').upper()\n",
    "surname = input('Enter your surname : ').upper()\n",
    "given_names = input('Enter your first name : ').upper()\n",
    "document_number = input('Enter your document number (only 8 char): ').upper()\n",
    "nationality = input('Enter your Nationality : ').upper()\n",
    "birth_date = input('Enter your D.O.B (yymmdd) : ').upper()\n",
    "sex = input('Enter your sex (M/F) : ').upper()\n",
    "expiry_date = input('Enter expiry date (yymmdd) : ').upper()\n",
    "esbd = input('Enter empty string by deafult(max 8 char): ')\n",
    "   \n",
    "#code generator\n",
    "code = MRVBCodeGenerator(document_type,country_code,given_names,surname,document_number,nationality,birth_date,sex,expiry_date,esbd)\n",
    "\n",
    "\n",
    "print(code)\n"
   ]
  },
  {
   "cell_type": "code",
   "execution_count": 2,
   "metadata": {},
   "outputs": [
    {
     "name": "stdout",
     "output_type": "stream",
     "text": [
      "True\n"
     ]
    }
   ],
   "source": [
    "from mrz.checker.mrvb import MRVBCodeChecker\n",
    "\n",
    "check = MRVBCodeChecker(\"VCCANSAMUEL<IDOWO<<OLUWADAIRO<<<<<<<\\n\"\n",
    "                        \"A5042955<8NGA7403046M2210023<<<<<<<<\")\n",
    "result = bool(check)\n",
    "print(result)"
   ]
  },
  {
   "cell_type": "code",
   "execution_count": 3,
   "metadata": {},
   "outputs": [
    {
     "name": "stdout",
     "output_type": "stream",
     "text": [
      "OLUWADAIRO SAMUEL IDOWO\n",
      "Canada\n"
     ]
    }
   ],
   "source": [
    "from mrz.checker.mrvb import MRVBCodeChecker, get_country\n",
    "\n",
    "mrvb_check = MRVBCodeChecker(\"VCCANSAMUEL<IDOWO<<OLUWADAIRO<<<<<<<\\n\"\n",
    "                        \"A5042955<8NGA7403046M2210023<<<<<<<<\")\n",
    "\n",
    "fields = mrvb_check.fields()\n",
    "\n",
    "print(fields.name, fields.surname)\n",
    "print(get_country(fields.country))"
   ]
  },
  {
   "cell_type": "code",
   "execution_count": null,
   "metadata": {},
   "outputs": [],
   "source": []
  }
 ],
 "metadata": {
  "kernelspec": {
   "display_name": "Python 3",
   "language": "python",
   "name": "python3"
  },
  "language_info": {
   "codemirror_mode": {
    "name": "ipython",
    "version": 3
   },
   "file_extension": ".py",
   "mimetype": "text/x-python",
   "name": "python",
   "nbconvert_exporter": "python",
   "pygments_lexer": "ipython3",
   "version": "3.7.4"
  }
 },
 "nbformat": 4,
 "nbformat_minor": 2
}
